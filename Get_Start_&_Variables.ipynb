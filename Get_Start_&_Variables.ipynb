{
  "nbformat": 4,
  "nbformat_minor": 0,
  "metadata": {
    "colab": {
      "provenance": [],
      "toc_visible": true,
      "authorship_tag": "ABX9TyN/TjAZSOjkOMGBQo0Ccj7p",
      "include_colab_link": true
    },
    "kernelspec": {
      "name": "python3",
      "display_name": "Python 3"
    },
    "language_info": {
      "name": "python"
    }
  },
  "cells": [
    {
      "cell_type": "markdown",
      "metadata": {
        "id": "view-in-github",
        "colab_type": "text"
      },
      "source": [
        "<a href=\"https://colab.research.google.com/github/luckyxxxjm/Python3_Learning_Notes/blob/main/Get_Start_%26_Variables.ipynb\" target=\"_parent\"><img src=\"https://colab.research.google.com/assets/colab-badge.svg\" alt=\"Open In Colab\"/></a>"
      ]
    },
    {
      "cell_type": "markdown",
      "source": [
        "# Start"
      ],
      "metadata": {
        "id": "wn1SivMjgBGi"
      }
    },
    {
      "cell_type": "markdown",
      "source": [
        "As usual, we run one classic code to start our learning."
      ],
      "metadata": {
        "id": "15-ZbsxzWxLL"
      }
    },
    {
      "cell_type": "code",
      "source": [
        "print('Hello Python World!')"
      ],
      "metadata": {
        "colab": {
          "base_uri": "https://localhost:8080/"
        },
        "id": "WcDflVXhWaJf",
        "outputId": "fd1aaf5c-4293-469b-c330-0d7da5c3511d"
      },
      "execution_count": null,
      "outputs": [
        {
          "output_type": "stream",
          "name": "stdout",
          "text": [
            "Hello Python World!\n"
          ]
        }
      ]
    },
    {
      "cell_type": "markdown",
      "source": [
        "A Python program is a file ending *.py* . \n",
        "All codes and lines will be interpreted when you run the files. \n",
        "The editor has a function called *syntax highlighting* which shows different parts of program in different ways."
      ],
      "metadata": {
        "id": "dmY8w1a3XUFy"
      }
    },
    {
      "cell_type": "markdown",
      "source": [
        "# Variable"
      ],
      "metadata": {
        "id": "4tFoSWysBXVi"
      }
    },
    {
      "cell_type": "markdown",
      "source": [
        "Every variable is connected to a value. The value can be changed if we want.\n",
        "\n",
        "When we define a variable, its name should follow several rules:\n",
        "\n",
        "\n",
        "*   Only contain letters, numbers and underscores\n",
        "*   Start with letters or underscores\n",
        "*   No spaces\n",
        "*   Avoid using Python keywords and function names\n",
        "*   Be short but descriptive\n",
        "\n",
        "Be careful of the spelling mistakes when using variables. \n",
        "\n",
        "Variables are like labels that we can assign to values."
      ],
      "metadata": {
        "id": "uYky9qq0h66j"
      }
    },
    {
      "cell_type": "markdown",
      "source": [
        "**Ex 2-1. Simple Message:** Assign a message to a variable, and then print that message."
      ],
      "metadata": {
        "id": "XhodTnEVi45l"
      }
    },
    {
      "cell_type": "code",
      "source": [
        "message = 'Hello World!'\n",
        "print(message)"
      ],
      "metadata": {
        "colab": {
          "base_uri": "https://localhost:8080/"
        },
        "id": "LVVviU1Li3-L",
        "outputId": "df6a0b49-866a-4c59-b12b-82add921e3f2"
      },
      "execution_count": null,
      "outputs": [
        {
          "output_type": "stream",
          "name": "stdout",
          "text": [
            "Hello World!\n"
          ]
        }
      ]
    },
    {
      "cell_type": "markdown",
      "source": [
        "**Ex 2-2. Simple Messages:** Assign a message to a variable, and print that message. Then change the value of the variable to a new message, and print the new message."
      ],
      "metadata": {
        "id": "360stblnj-Dw"
      }
    },
    {
      "cell_type": "code",
      "source": [
        "messages = 'Hello World!'\n",
        "print(messages)\n",
        "messages = 'Hello Python!'\n",
        "print(messages)"
      ],
      "metadata": {
        "colab": {
          "base_uri": "https://localhost:8080/"
        },
        "id": "DajxYljHk43P",
        "outputId": "68fde0ef-28b8-475a-bf7b-631f6b14c1fe"
      },
      "execution_count": null,
      "outputs": [
        {
          "output_type": "stream",
          "name": "stdout",
          "text": [
            "Hello World!\n",
            "Hello Python!\n"
          ]
        }
      ]
    },
    {
      "cell_type": "markdown",
      "source": [
        "## Numbers and Operation"
      ],
      "metadata": {
        "id": "3iAwGdHc4Nxu"
      }
    },
    {
      "cell_type": "markdown",
      "source": [
        "Integers and floats are two common types of variables. Python follows the rules of arithmetic."
      ],
      "metadata": {
        "id": "h0YtbTJsF9co"
      }
    },
    {
      "cell_type": "markdown",
      "source": [
        "Integer division use two flashes '//'. \n",
        "\n",
        "'%' will give the remainder."
      ],
      "metadata": {
        "id": "OX-Riw8LEw-q"
      }
    },
    {
      "cell_type": "code",
      "execution_count": null,
      "metadata": {
        "colab": {
          "base_uri": "https://localhost:8080/"
        },
        "id": "CesM_p7p3vPv",
        "outputId": "b554cc2b-b555-4791-a43e-151f3071a652"
      },
      "outputs": [
        {
          "output_type": "stream",
          "name": "stdout",
          "text": [
            "2.5 2 1\n"
          ]
        }
      ],
      "source": [
        "a = 5 / 2\n",
        "b = 5 // 2\n",
        "c = 5 % 2\n",
        "print (a,b,c)"
      ]
    },
    {
      "cell_type": "markdown",
      "source": [
        "'**' represents exponents in Python."
      ],
      "metadata": {
        "id": "iesnenO3fmhQ"
      }
    },
    {
      "cell_type": "code",
      "source": [
        "d = 2 ** 3\n",
        "print (d)"
      ],
      "metadata": {
        "colab": {
          "base_uri": "https://localhost:8080/"
        },
        "id": "sS3xAMimfs2J",
        "outputId": "e23c4809-9de5-4d71-9f36-d0744bb36de8"
      },
      "execution_count": null,
      "outputs": [
        {
          "output_type": "stream",
          "name": "stdout",
          "text": [
            "8\n"
          ]
        }
      ]
    },
    {
      "cell_type": "markdown",
      "source": [
        "Underscore '_' means output of previous operation."
      ],
      "metadata": {
        "id": "c5-L-wTbtm_E"
      }
    },
    {
      "cell_type": "markdown",
      "source": [
        "When writing long numbers, we can group digits using underscores to make large numbers more readable, no matter where we place underscores."
      ],
      "metadata": {
        "id": "_0MqRYYLHSgl"
      }
    },
    {
      "cell_type": "code",
      "source": [
        "longnum = 14_000_00\n",
        "print(longnum)"
      ],
      "metadata": {
        "colab": {
          "base_uri": "https://localhost:8080/"
        },
        "id": "Tx1rRWkhHPRC",
        "outputId": "f27a8e0b-fae1-4985-8921-6989b824a1c5"
      },
      "execution_count": 15,
      "outputs": [
        {
          "output_type": "stream",
          "name": "stdout",
          "text": [
            "1400000\n"
          ]
        }
      ]
    },
    {
      "cell_type": "markdown",
      "source": [
        "Multiple assignment is a quick way to initialize variables. This can help short the programs and make them eariser to read."
      ],
      "metadata": {
        "id": "TqqR2dEPIW_u"
      }
    },
    {
      "cell_type": "code",
      "source": [
        "a1, a2, a3 = 0,1,2\n",
        "print(a1,a2,a3)"
      ],
      "metadata": {
        "colab": {
          "base_uri": "https://localhost:8080/"
        },
        "id": "84DCJeuoJD99",
        "outputId": "076d592a-c44d-4466-d9de-84c20189d944"
      },
      "execution_count": 16,
      "outputs": [
        {
          "output_type": "stream",
          "name": "stdout",
          "text": [
            "0 1 2\n"
          ]
        }
      ]
    },
    {
      "cell_type": "markdown",
      "source": [
        "## Strings"
      ],
      "metadata": {
        "id": "DSjI1l52mH-m"
      }
    },
    {
      "cell_type": "markdown",
      "source": [
        "A string is a series of characters. \n",
        "Anything insides quotes is considered a string in Python.\n",
        "Single and double quotes are both allowed, "
      ],
      "metadata": {
        "id": "nqDTshhwouM6"
      }
    },
    {
      "cell_type": "markdown",
      "source": [
        "If a string contains single quotes, then the string should be within double quotes. \n",
        "\n",
        "Otherwise, we can use blackslash ' \\ ' before the quatation to print the complete sring."
      ],
      "metadata": {
        "id": "MKcIjHU4liD5"
      }
    },
    {
      "cell_type": "markdown",
      "source": [
        "If you want to get the duplicate of string, you can do it in exponation form."
      ],
      "metadata": {
        "id": "iipfmHZ0lZG5"
      }
    },
    {
      "cell_type": "code",
      "source": [
        "print('laptop')\n",
        "print(\"xjm's laptop\")\n",
        "print('xjm\\'s \"laptop\"')\n",
        "print('laptop'+'laptop')\n",
        "print(10 * 'laptop')"
      ],
      "metadata": {
        "colab": {
          "base_uri": "https://localhost:8080/"
        },
        "id": "djZsGYx4kRM4",
        "outputId": "1df675fb-1e91-425c-85aa-526d9c458268"
      },
      "execution_count": null,
      "outputs": [
        {
          "output_type": "stream",
          "name": "stdout",
          "text": [
            "laptop\n",
            "xjm's laptop\n",
            "xjm's \"laptop\"\n",
            "laptoplaptop\n",
            "laptoplaptoplaptoplaptoplaptoplaptoplaptoplaptoplaptoplaptop\n"
          ]
        }
      ]
    },
    {
      "cell_type": "markdown",
      "source": [
        "Row string will not output '\\n' as a new line."
      ],
      "metadata": {
        "id": "MHa_ONoOnILE"
      }
    },
    {
      "cell_type": "code",
      "source": [
        "print(r'\\n')"
      ],
      "metadata": {
        "colab": {
          "base_uri": "https://localhost:8080/"
        },
        "id": "N18HOkB-shep",
        "outputId": "7ef0e797-9d65-4374-a421-af9b58172395"
      },
      "execution_count": null,
      "outputs": [
        {
          "output_type": "stream",
          "name": "stdout",
          "text": [
            "\\n\n"
          ]
        }
      ]
    },
    {
      "cell_type": "markdown",
      "source": [
        "The case of words in a string can be changed, which can display the words in a standard form.\n",
        "\n",
        "For example, the title() method changes each word to title case, where each word begins with a capital word.\n",
        "\n",
        "The upper() / lower() method changes a string to all uppercase/lowercase letters.\n",
        "\n",
        "Don't forget the parentheses. Methods may need additional information to do their work."
      ],
      "metadata": {
        "id": "mHMOYyY-BUC7"
      }
    },
    {
      "cell_type": "code",
      "source": [
        "name = \"Alan turing\"\n",
        "print(name.title())\n",
        "print(name.upper())\n",
        "print(name.lower())"
      ],
      "metadata": {
        "colab": {
          "base_uri": "https://localhost:8080/"
        },
        "id": "x8nbVjg0CmjZ",
        "outputId": "212f41a7-706d-4145-e984-f7ed322299dc"
      },
      "execution_count": 12,
      "outputs": [
        {
          "output_type": "stream",
          "name": "stdout",
          "text": [
            "Alan Turing\n",
            "ALAN TURING\n",
            "alan turing\n"
          ]
        }
      ]
    },
    {
      "cell_type": "markdown",
      "source": [
        "#### f-strings"
      ],
      "metadata": {
        "id": "VfEdiYwTEK6Q"
      }
    },
    {
      "cell_type": "markdown",
      "source": [],
      "metadata": {
        "id": "hnjVgr9jEfXj"
      }
    },
    {
      "cell_type": "markdown",
      "source": [
        "The index of vector starts from 0.\n",
        "Also, if we count the vector backwards, it will start from -1."
      ],
      "metadata": {
        "id": "jnZtfogiuols"
      }
    },
    {
      "cell_type": "code",
      "source": [
        "name = 'laptop'\n",
        "name[0]"
      ],
      "metadata": {
        "colab": {
          "base_uri": "https://localhost:8080/",
          "height": 35
        },
        "id": "2-_Cg9Whwq0g",
        "outputId": "9fda18cf-c8b3-4ba0-8010-e38ce9303126"
      },
      "execution_count": null,
      "outputs": [
        {
          "output_type": "execute_result",
          "data": {
            "text/plain": [
              "'l'"
            ],
            "application/vnd.google.colaboratory.intrinsic+json": {
              "type": "string"
            }
          },
          "metadata": {},
          "execution_count": 20
        }
      ]
    },
    {
      "cell_type": "markdown",
      "source": [
        "To be careful is that in Python '1:3' means start from index 1 and end at index 2, before 3. \n",
        "The ending index can be out of range."
      ],
      "metadata": {
        "id": "nP2pphG8wl4n"
      }
    },
    {
      "cell_type": "code",
      "source": [
        "name[1:3]"
      ],
      "metadata": {
        "colab": {
          "base_uri": "https://localhost:8080/",
          "height": 35
        },
        "id": "Rz3NjkdS_aWY",
        "outputId": "1483860f-469a-4ce4-ae3b-699c9e7ad68a"
      },
      "execution_count": null,
      "outputs": [
        {
          "output_type": "execute_result",
          "data": {
            "text/plain": [
              "'ap'"
            ],
            "application/vnd.google.colaboratory.intrinsic+json": {
              "type": "string"
            }
          },
          "metadata": {},
          "execution_count": 23
        }
      ]
    },
    {
      "cell_type": "code",
      "source": [
        "name[3:10]"
      ],
      "metadata": {
        "colab": {
          "base_uri": "https://localhost:8080/",
          "height": 35
        },
        "id": "PTtlocJO-3K6",
        "outputId": "e07f07fb-9f3c-4e60-f4d6-aae9e7de185c"
      },
      "execution_count": null,
      "outputs": [
        {
          "output_type": "execute_result",
          "data": {
            "text/plain": [
              "'top'"
            ],
            "application/vnd.google.colaboratory.intrinsic+json": {
              "type": "string"
            }
          },
          "metadata": {},
          "execution_count": 22
        }
      ]
    },
    {
      "cell_type": "markdown",
      "source": [
        "String in Python is immutable variable. Once we assign the value of a string, then we can't change it."
      ],
      "metadata": {
        "id": "ST8yf7qawks7"
      }
    },
    {
      "cell_type": "code",
      "source": [
        "len (name)"
      ],
      "metadata": {
        "colab": {
          "base_uri": "https://localhost:8080/"
        },
        "id": "j3LVKA37ALag",
        "outputId": "bbdfef8c-84a1-4faf-f975-75aa11636fa7"
      },
      "execution_count": null,
      "outputs": [
        {
          "output_type": "execute_result",
          "data": {
            "text/plain": [
              "6"
            ]
          },
          "metadata": {},
          "execution_count": 24
        }
      ]
    }
  ]
}