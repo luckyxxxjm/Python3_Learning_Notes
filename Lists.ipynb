{
  "nbformat": 4,
  "nbformat_minor": 0,
  "metadata": {
    "colab": {
      "provenance": [],
      "authorship_tag": "ABX9TyNMzgy1bFK9KGdPSTkrXvyk",
      "include_colab_link": true
    },
    "kernelspec": {
      "name": "python3",
      "display_name": "Python 3"
    },
    "language_info": {
      "name": "python"
    }
  },
  "cells": [
    {
      "cell_type": "markdown",
      "metadata": {
        "id": "view-in-github",
        "colab_type": "text"
      },
      "source": [
        "<a href=\"https://colab.research.google.com/github/luckyxxxjm/Python3_Learning_Notes/blob/main/Lists.ipynb\" target=\"_parent\"><img src=\"https://colab.research.google.com/assets/colab-badge.svg\" alt=\"Open In Colab\"/></a>"
      ]
    },
    {
      "cell_type": "markdown",
      "source": [
        "## List"
      ],
      "metadata": {
        "id": "evq2R-HQBRFF"
      }
    },
    {
      "cell_type": "markdown",
      "source": [
        "A list is a collection of items in a particular order. \n",
        "\n",
        "In Python, square brackets ([ ]) indicate a list, and individual elements in the list are seperated by commas.\n",
        "\n",
        "When printing a list, Python returns the list with the square brackets.\n",
        "\n",
        "The elements in a list can be different data types, like numbers, letters. List is mutable."
      ],
      "metadata": {
        "id": "iD-pPg8FB0as"
      }
    },
    {
      "cell_type": "code",
      "source": [
        "value = [9.5,'laptop',25,'PC',25,10]\n",
        "value"
      ],
      "metadata": {
        "id": "0hNLW3m8ANL9",
        "colab": {
          "base_uri": "https://localhost:8080/"
        },
        "outputId": "7de095f0-63dc-4bab-fa57-e10247a4d22a"
      },
      "execution_count": null,
      "outputs": [
        {
          "output_type": "execute_result",
          "data": {
            "text/plain": [
              "[9.5, 'laptop', 25, 'PC', 25, 10]"
            ]
          },
          "metadata": {},
          "execution_count": 17
        }
      ]
    },
    {
      "cell_type": "markdown",
      "source": [
        "The index of a list starts from **0**.\n",
        "Also, if we count the list backwards, it will start from -1.\n",
        "\n",
        "This syntax is quite useful, because you'll often want to access the last items in a list without knowing exactly how long the list is."
      ],
      "metadata": {
        "id": "jnZtfogiuols"
      }
    },
    {
      "cell_type": "code",
      "source": [
        "print(value[0])\n",
        "print(value[1])\n",
        "print(value[-1])"
      ],
      "metadata": {
        "colab": {
          "base_uri": "https://localhost:8080/"
        },
        "id": "2-_Cg9Whwq0g",
        "outputId": "7a0059e4-2853-46aa-b6f5-c3648bf4d47d"
      },
      "execution_count": null,
      "outputs": [
        {
          "output_type": "stream",
          "name": "stdout",
          "text": [
            "9.5\n",
            "laptop\n",
            "10\n"
          ]
        }
      ]
    },
    {
      "cell_type": "markdown",
      "source": [
        "## Changing, Adding and Removing Elements"
      ],
      "metadata": {
        "id": "o0jLS7usRQCN"
      }
    },
    {
      "cell_type": "markdown",
      "source": [
        "To modify elements in a list, use the name of the list followed by the index of the elements you want to change, and then reassign the value of the item."
      ],
      "metadata": {
        "id": "RHOrtw19Sauk"
      }
    },
    {
      "cell_type": "code",
      "source": [
        "value[1] = 47\n",
        "value"
      ],
      "metadata": {
        "colab": {
          "base_uri": "https://localhost:8080/"
        },
        "id": "FyudPv8vTRIc",
        "outputId": "3b2dd265-7a73-4f7f-87ad-f59ffb983c61"
      },
      "execution_count": null,
      "outputs": [
        {
          "output_type": "execute_result",
          "data": {
            "text/plain": [
              "[9.5, 47, 25, 'PC', 25, 10]"
            ]
          },
          "metadata": {},
          "execution_count": 19
        }
      ]
    },
    {
      "cell_type": "markdown",
      "source": [
        "The simpliest way to add one element is to use the append() method, which allows you to add it to the end of the list."
      ],
      "metadata": {
        "id": "DmbheuX2ToDq"
      }
    },
    {
      "cell_type": "code",
      "source": [
        "value.append(39)\n",
        "print(value)"
      ],
      "metadata": {
        "colab": {
          "base_uri": "https://localhost:8080/"
        },
        "id": "jpQvBjYQUH22",
        "outputId": "74aa0458-5fbb-4b47-b66d-d203f1237092"
      },
      "execution_count": null,
      "outputs": [
        {
          "output_type": "stream",
          "name": "stdout",
          "text": [
            "[9.5, 47, 25, 'PC', 25, 10, 39]\n"
          ]
        }
      ]
    },
    {
      "cell_type": "markdown",
      "source": [
        "Remark: The append() method makes it easy to build lists dynamically. \n",
        "For example, you can start with an empty list and then add items to the list using a series of append() calls. That helps you store the users' data after the program is running. "
      ],
      "metadata": {
        "id": "xE2cZyjcU5l3"
      }
    },
    {
      "cell_type": "markdown",
      "source": [
        "Sometimes adding new elements one by one is time-consuming, extend() method avoids this trouble. \n",
        "Don't forget to use square brakets out of the elements."
      ],
      "metadata": {
        "id": "B6bms_I6TC3h"
      }
    },
    {
      "cell_type": "code",
      "source": [
        "value.extend([18,'Phone',55])\n",
        "value"
      ],
      "metadata": {
        "colab": {
          "base_uri": "https://localhost:8080/"
        },
        "id": "wiVAvqlVSYjH",
        "outputId": "211a2307-9393-4a17-aea8-35b260e615f7"
      },
      "execution_count": null,
      "outputs": [
        {
          "output_type": "execute_result",
          "data": {
            "text/plain": [
              "[9.5, 47, 25, 'PC', 25, 10, 39, 18, 'Phone', 55]"
            ]
          },
          "metadata": {},
          "execution_count": 21
        }
      ]
    },
    {
      "cell_type": "markdown",
      "source": [
        "If you want to add a new element in an arbitrary position in the list, use insert() method by specifying the index of the new item and the value.\n"
      ],
      "metadata": {
        "id": "8jGRovMqW2iF"
      }
    },
    {
      "cell_type": "code",
      "source": [
        "value.insert(2,77)\n",
        "print(value)"
      ],
      "metadata": {
        "colab": {
          "base_uri": "https://localhost:8080/"
        },
        "id": "5agbAmgNXgzf",
        "outputId": "31ca01a8-3906-4307-fb29-0148ca18b133"
      },
      "execution_count": null,
      "outputs": [
        {
          "output_type": "stream",
          "name": "stdout",
          "text": [
            "[9.5, 47, 77, 25, 'PC', 25, 10, 39, 18, 'Phone', 55]\n"
          ]
        }
      ]
    },
    {
      "cell_type": "markdown",
      "source": [
        "There are two cases when you want to remove an element. \n",
        "Once you know the position of the item, the del statement and the pop() method are both suitable in this cases. The difference between these two commands is that you can get the value of the removed item in pop() method.\n",
        "If omitted the index, the pop() method removes the last item in default."
      ],
      "metadata": {
        "id": "xe5w4acKX1EA"
      }
    },
    {
      "cell_type": "code",
      "source": [
        "del value[0]\n",
        "print(value)\n",
        "PoppedValue = value.pop(3)\n",
        "print(value)\n",
        "print(PoppedValue)"
      ],
      "metadata": {
        "colab": {
          "base_uri": "https://localhost:8080/"
        },
        "id": "L8yEjjacd902",
        "outputId": "989b0322-269a-4914-83d8-1950864d67dd"
      },
      "execution_count": null,
      "outputs": [
        {
          "output_type": "stream",
          "name": "stdout",
          "text": [
            "[47, 77, 25, 'PC', 25, 10, 39, 18, 'Phone', 55]\n",
            "[47, 77, 25, 25, 10, 39, 18, 'Phone', 55]\n",
            "PC\n"
          ]
        }
      ]
    },
    {
      "cell_type": "markdown",
      "source": [
        "Sometimes you won't know the position of the value you want to remove from a list. The remove() method is provided for removing an item by value."
      ],
      "metadata": {
        "id": "kFCepnncb8xc"
      }
    },
    {
      "cell_type": "code",
      "source": [
        "value.remove(25)\n",
        "print(value)"
      ],
      "metadata": {
        "colab": {
          "base_uri": "https://localhost:8080/"
        },
        "id": "hiutpwDTmQDw",
        "outputId": "8d92bff4-38bb-401e-db2b-8436f8dbb86d"
      },
      "execution_count": null,
      "outputs": [
        {
          "output_type": "stream",
          "name": "stdout",
          "text": [
            "[47, 77, 25, 10, 39, 18, 'Phone', 55]\n"
          ]
        }
      ]
    },
    {
      "cell_type": "markdown",
      "source": [
        "Remark: The remove method deletes only the first occurrence of the value you specify. If there is a possibility the value appears more than once in the list, you'll need to use a loop to make sure all occurences of the value are removed."
      ],
      "metadata": {
        "id": "Bfx91nECmdqy"
      }
    },
    {
      "cell_type": "markdown",
      "source": [
        "# Organizing a list"
      ],
      "metadata": {
        "id": "qFZbISJVIbFx"
      }
    },
    {
      "cell_type": "markdown",
      "source": [
        "*   .sort() sort the list **permanently**\n",
        "*   sort**ed**() sort the list **temperately**\n",
        "*   .reverse() reverse the list **permanently**\n",
        "*   .len() find the length of a list "
      ],
      "metadata": {
        "id": "-km9Btl1I4kv"
      }
    },
    {
      "cell_type": "code",
      "source": [
        "name = ['alice', 'john', 'henrry', 'stella', 'lucy']\n",
        "print(f'The original list: {name}')\n",
        "print(f'The sorted list: {sorted(name)}')\n",
        "print(f'The original list again: {name}')\n",
        "\n",
        "name.sort()\n",
        "print(f'\\nAfter the sort() method: {name}')\n",
        "name = ['alice', 'john', 'henrry', 'stella', 'lucy']\n",
        "name.sort(reverse=True)\n",
        "print(f'In reverse alphabetical order: {name}')\n",
        "\n",
        "name = ['alice', 'john', 'henrry', 'stella', 'lucy']\n",
        "print(f'\\nThe original list: {name}')\n",
        "name.reverse\n",
        "print(f'The reversed order of the list: {name}')\n",
        "print(f'The length of the list is {len(name)}.')"
      ],
      "metadata": {
        "colab": {
          "base_uri": "https://localhost:8080/"
        },
        "id": "34qMzeTwKtY2",
        "outputId": "dbe688f7-d327-4d7a-fcad-1e16649aa030"
      },
      "execution_count": null,
      "outputs": [
        {
          "output_type": "stream",
          "name": "stdout",
          "text": [
            "The original list: ['alice', 'john', 'henrry', 'stella', 'lucy']\n",
            "The sorted list: ['alice', 'henrry', 'john', 'lucy', 'stella']\n",
            "The original list again: ['alice', 'john', 'henrry', 'stella', 'lucy']\n",
            "\n",
            "After the sort() method: ['alice', 'henrry', 'john', 'lucy', 'stella']\n",
            "In reverse alphabetical order: ['stella', 'lucy', 'john', 'henrry', 'alice']\n",
            "\n",
            "The original list: ['alice', 'john', 'henrry', 'stella', 'lucy']\n",
            "The reversed order of the list: ['alice', 'john', 'henrry', 'stella', 'lucy']\n",
            "The length of the list is 5.\n"
          ]
        }
      ]
    },
    {
      "cell_type": "markdown",
      "source": [
        "Remark: The sorted() function can also accept a *reverse=True* argument if you want to display a list in reverse alphabetical order. Notice that reverse() method doesn't sort backward alphabetically; it simply reverses the order of the list."
      ],
      "metadata": {
        "id": "8Kwxmt8eQVSV"
      }
    }
  ]
}