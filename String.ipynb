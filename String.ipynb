{
  "nbformat": 4,
  "nbformat_minor": 0,
  "metadata": {
    "colab": {
      "provenance": [],
      "toc_visible": true,
      "authorship_tag": "ABX9TyMHiwgvbkArUKyD/t7KIrb+",
      "include_colab_link": true
    },
    "kernelspec": {
      "name": "python3",
      "display_name": "Python 3"
    },
    "language_info": {
      "name": "python"
    }
  },
  "cells": [
    {
      "cell_type": "markdown",
      "metadata": {
        "id": "view-in-github",
        "colab_type": "text"
      },
      "source": [
        "<a href=\"https://colab.research.google.com/github/luckyxxxjm/Python3_Learning_Notes/blob/main/String.ipynb\" target=\"_parent\"><img src=\"https://colab.research.google.com/assets/colab-badge.svg\" alt=\"Open In Colab\"/></a>"
      ]
    },
    {
      "cell_type": "markdown",
      "source": [
        "# Strings"
      ],
      "metadata": {
        "id": "DSjI1l52mH-m"
      }
    },
    {
      "cell_type": "markdown",
      "source": [
        "A string is a series of characters. \n",
        "Anything insides quotes is considered a string in Python.\n",
        "Single and double quotes are both allowed, "
      ],
      "metadata": {
        "id": "nqDTshhwouM6"
      }
    },
    {
      "cell_type": "markdown",
      "source": [
        "If a string contains single quotes, then the string should be within double quotes. \n",
        "\n",
        "Otherwise, we can use blackslash ' \\ ' before the quatation to let Python ignore the quatation in the string.\n",
        "\n",
        "If we want to duplicate the string, do it in exponational form."
      ],
      "metadata": {
        "id": "MKcIjHU4liD5"
      }
    },
    {
      "cell_type": "code",
      "source": [
        "print('laptop')\n",
        "print(\"xjm's laptop\")\n",
        "print('xjm\\'s \"laptop\"')\n",
        "print('laptop'+'laptop')\n",
        "print(10 * 'laptop')"
      ],
      "metadata": {
        "colab": {
          "base_uri": "https://localhost:8080/"
        },
        "id": "djZsGYx4kRM4",
        "outputId": "1df675fb-1e91-425c-85aa-526d9c458268"
      },
      "execution_count": null,
      "outputs": [
        {
          "output_type": "stream",
          "name": "stdout",
          "text": [
            "laptop\n",
            "xjm's laptop\n",
            "xjm's \"laptop\"\n",
            "laptoplaptop\n",
            "laptoplaptoplaptoplaptoplaptoplaptoplaptoplaptoplaptoplaptop\n"
          ]
        }
      ]
    },
    {
      "cell_type": "markdown",
      "source": [
        "The case of words in a string can be changed, which can display the words in a standard form.\n",
        "\n",
        "For example, the title() method changes each word to title case, where each word begins with a capital word.\n",
        "\n",
        "The upper() / lower() method changes a string to all uppercase/lowercase letters.\n",
        "\n",
        "Don't forget the parentheses. Methods may need additional information to do their work."
      ],
      "metadata": {
        "id": "mHMOYyY-BUC7"
      }
    },
    {
      "cell_type": "markdown",
      "source": [
        "**Ex 2-3. Name Cases:** Use a variable to represent a person's name, and then print that person's name in title case, uppercase, and lowercase."
      ],
      "metadata": {
        "id": "WyXVN6o1p8H2"
      }
    },
    {
      "cell_type": "code",
      "source": [
        "name = \"Alan turing\"\n",
        "print(name.title())\n",
        "print(name.upper())\n",
        "print(name.lower())"
      ],
      "metadata": {
        "colab": {
          "base_uri": "https://localhost:8080/"
        },
        "id": "x8nbVjg0CmjZ",
        "outputId": "212f41a7-706d-4145-e984-f7ed322299dc"
      },
      "execution_count": null,
      "outputs": [
        {
          "output_type": "stream",
          "name": "stdout",
          "text": [
            "Alan Turing\n",
            "ALAN TURING\n",
            "alan turing\n"
          ]
        }
      ]
    },
    {
      "cell_type": "markdown",
      "source": [
        "Remark: The lower() method is particularly useful for storing data. Your users may provide different capitalization so you would convert strings to lowercase before storing them. Then when you want to display the information, use the case that makes the most sense for each string."
      ],
      "metadata": {
        "id": "nrLyLNmF_hO-"
      }
    },
    {
      "cell_type": "markdown",
      "source": [
        "## f-strings"
      ],
      "metadata": {
        "id": "VfEdiYwTEK6Q"
      }
    },
    {
      "cell_type": "markdown",
      "source": [
        "f-strings helps you insert a variable's value into a string. \n",
        "Here 'f' is for format.\n",
        "\n",
        "Place the letter *f* just before the opening quatation mark and put braces around the names of variables you want to insert. \n",
        "\n",
        "The convenience of f-strings is that it gives us more freedom to show a message."
      ],
      "metadata": {
        "id": "hgEZK2wFThm3"
      }
    },
    {
      "cell_type": "markdown",
      "source": [
        "**Ex 2-4. Personal Message** Use a variable to represent a person's name, and print a simple message to that person."
      ],
      "metadata": {
        "id": "9sm2wFgcqsDR"
      }
    },
    {
      "cell_type": "code",
      "source": [
        "FirstName = 'Alan'\n",
        "LastName = 'Turing'\n",
        "FullName = f\"{FirstName} {LastName}\"\n",
        "print(FullName)\n",
        "print(f\"{FullName} has a brilliant mind.\")"
      ],
      "metadata": {
        "colab": {
          "base_uri": "https://localhost:8080/"
        },
        "id": "7R50PZt2Ue4J",
        "outputId": "c4b6c99c-d537-4332-d15b-2c631f1fa630"
      },
      "execution_count": null,
      "outputs": [
        {
          "output_type": "stream",
          "name": "stdout",
          "text": [
            "Alan Turing\n",
            "Alan Turing has a brilliant mind.\n"
          ]
        }
      ]
    },
    {
      "cell_type": "markdown",
      "source": [
        "## Adding and Stripping Whitespace"
      ],
      "metadata": {
        "id": "_MCupZ44aY7h"
      }
    },
    {
      "cell_type": "markdown",
      "source": [
        "To add a tab, use '\\t' in the text. \n",
        "Another built-in command in Python, '\\n', means a newline instruction.\n",
        "There is an combination of tabs and newlines in a single string."
      ],
      "metadata": {
        "id": "UMW6YTvqbAj5"
      }
    },
    {
      "cell_type": "code",
      "source": [
        "print('Languages: \\n\\t Python \\n\\t C++ \\n\\t JavaStcript')"
      ],
      "metadata": {
        "colab": {
          "base_uri": "https://localhost:8080/"
        },
        "id": "t_7mer8McPiW",
        "outputId": "73335225-02f1-4247-d881-59ae8a4cc0fb"
      },
      "execution_count": null,
      "outputs": [
        {
          "output_type": "stream",
          "name": "stdout",
          "text": [
            "Languages: \n",
            "\t Python \n",
            "\t C++ \n",
            "\t JavaStcript\n"
          ]
        }
      ]
    },
    {
      "cell_type": "markdown",
      "source": [
        "To eliminate extraneous whitespace, use the strip() method.\n",
        "\n",
        "The lstrip(), rstrip() methods remove the extra space from the left or right side of a string.\n",
        "\n",
        "Remark: These stripping functions are used most often to clean up user input before it's stored in a program."
      ],
      "metadata": {
        "id": "KCWV0a9nb3gf"
      }
    },
    {
      "cell_type": "code",
      "source": [
        "Language = ' Python '\n",
        "Language.strip()"
      ],
      "metadata": {
        "colab": {
          "base_uri": "https://localhost:8080/",
          "height": 35
        },
        "id": "AbI8RDP3dEeS",
        "outputId": "adbe7c4c-2627-4d3f-c3e3-7ff20002b945"
      },
      "execution_count": null,
      "outputs": [
        {
          "output_type": "execute_result",
          "data": {
            "text/plain": [
              "'Python'"
            ],
            "application/vnd.google.colaboratory.intrinsic+json": {
              "type": "string"
            }
          },
          "metadata": {},
          "execution_count": 2
        }
      ]
    },
    {
      "cell_type": "markdown",
      "source": [
        "Remark: Row string will not output '\\n' as a new line unlike f-strings."
      ],
      "metadata": {
        "id": "MHa_ONoOnILE"
      }
    },
    {
      "cell_type": "code",
      "source": [
        "print(r'New\\nLine')\n",
        "print(f'New\\nLine')"
      ],
      "metadata": {
        "colab": {
          "base_uri": "https://localhost:8080/"
        },
        "id": "N18HOkB-shep",
        "outputId": "0bdfc59a-b399-4170-de6f-d8f47c3ccfb1"
      },
      "execution_count": null,
      "outputs": [
        {
          "output_type": "stream",
          "name": "stdout",
          "text": [
            "New\\nLine\n",
            "New\n",
            "Line\n"
          ]
        }
      ]
    }
  ]
}