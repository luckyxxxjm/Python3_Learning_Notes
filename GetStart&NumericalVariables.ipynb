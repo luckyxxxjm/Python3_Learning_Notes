{
  "nbformat": 4,
  "nbformat_minor": 0,
  "metadata": {
    "colab": {
      "provenance": [],
      "toc_visible": true,
      "authorship_tag": "ABX9TyPVnMmrd9891aAzO8bPVs82",
      "include_colab_link": true
    },
    "kernelspec": {
      "name": "python3",
      "display_name": "Python 3"
    },
    "language_info": {
      "name": "python"
    }
  },
  "cells": [
    {
      "cell_type": "markdown",
      "metadata": {
        "id": "view-in-github",
        "colab_type": "text"
      },
      "source": [
        "<a href=\"https://colab.research.google.com/github/luckyxxxjm/Python3_Learning_Notes/blob/main/GetStart%26NumericalVariables.ipynb\" target=\"_parent\"><img src=\"https://colab.research.google.com/assets/colab-badge.svg\" alt=\"Open In Colab\"/></a>"
      ]
    },
    {
      "cell_type": "markdown",
      "source": [
        "# Start"
      ],
      "metadata": {
        "id": "wn1SivMjgBGi"
      }
    },
    {
      "cell_type": "markdown",
      "source": [
        "As usual, we run one classic code to start our learning."
      ],
      "metadata": {
        "id": "15-ZbsxzWxLL"
      }
    },
    {
      "cell_type": "code",
      "source": [
        "print('Hello Python World!')"
      ],
      "metadata": {
        "colab": {
          "base_uri": "https://localhost:8080/"
        },
        "id": "WcDflVXhWaJf",
        "outputId": "fd1aaf5c-4293-469b-c330-0d7da5c3511d"
      },
      "execution_count": null,
      "outputs": [
        {
          "output_type": "stream",
          "name": "stdout",
          "text": [
            "Hello Python World!\n"
          ]
        }
      ]
    },
    {
      "cell_type": "markdown",
      "source": [
        "A Python program is a file ending *.py* . \n",
        "All codes and lines will be interpreted when you run the files. \n",
        "The editor has a function called *syntax highlighting* which shows different parts of program in different ways."
      ],
      "metadata": {
        "id": "dmY8w1a3XUFy"
      }
    },
    {
      "cell_type": "markdown",
      "source": [
        "# Variable"
      ],
      "metadata": {
        "id": "4tFoSWysBXVi"
      }
    },
    {
      "cell_type": "markdown",
      "source": [
        "Every variable is connected to a value. The value can be changed if we want.\n",
        "\n",
        "When we define a variable, its name should follow several rules:\n",
        "\n",
        "\n",
        "*   Only contain letters, numbers and underscores\n",
        "*   Start with letters or underscores\n",
        "*   No spaces\n",
        "*   Avoid using Python keywords and function names\n",
        "*   Be short but descriptive\n",
        "\n",
        "Be careful of the spelling mistakes when using variables. \n",
        "\n",
        "Variables are like labels that we can assign to values."
      ],
      "metadata": {
        "id": "uYky9qq0h66j"
      }
    },
    {
      "cell_type": "markdown",
      "source": [
        "**Ex 2-1. Simple Message:** Assign a message to a variable, and then print that message."
      ],
      "metadata": {
        "id": "XhodTnEVi45l"
      }
    },
    {
      "cell_type": "code",
      "source": [
        "message = 'Hello World!'\n",
        "print(message)"
      ],
      "metadata": {
        "colab": {
          "base_uri": "https://localhost:8080/"
        },
        "id": "LVVviU1Li3-L",
        "outputId": "df6a0b49-866a-4c59-b12b-82add921e3f2"
      },
      "execution_count": null,
      "outputs": [
        {
          "output_type": "stream",
          "name": "stdout",
          "text": [
            "Hello World!\n"
          ]
        }
      ]
    },
    {
      "cell_type": "markdown",
      "source": [
        "**Ex 2-2. Simple Messages:** Assign a message to a variable, and print that message. Then change the value of the variable to a new message, and print the new message."
      ],
      "metadata": {
        "id": "360stblnj-Dw"
      }
    },
    {
      "cell_type": "code",
      "source": [
        "messages = 'Hello World!'\n",
        "print(messages)\n",
        "messages = 'Hello Python!'\n",
        "print(messages)"
      ],
      "metadata": {
        "colab": {
          "base_uri": "https://localhost:8080/"
        },
        "id": "DajxYljHk43P",
        "outputId": "68fde0ef-28b8-475a-bf7b-631f6b14c1fe"
      },
      "execution_count": null,
      "outputs": [
        {
          "output_type": "stream",
          "name": "stdout",
          "text": [
            "Hello World!\n",
            "Hello Python!\n"
          ]
        }
      ]
    },
    {
      "cell_type": "markdown",
      "source": [
        "## Numerical Variables"
      ],
      "metadata": {
        "id": "3iAwGdHc4Nxu"
      }
    },
    {
      "cell_type": "markdown",
      "source": [
        "Integers and floats are two common types of variables. Python follows the rules of arithmetic."
      ],
      "metadata": {
        "id": "h0YtbTJsF9co"
      }
    },
    {
      "cell_type": "markdown",
      "source": [
        "One flash '/' indicates division. Integer division use two flashes '//'. '%' will give the remainder. \n",
        "\n",
        "You may find that the division between any two nunbers will always give a float. \n",
        "That's because Python defaults to a float in any operation that uses a float."
      ],
      "metadata": {
        "id": "OX-Riw8LEw-q"
      }
    },
    {
      "cell_type": "code",
      "execution_count": null,
      "metadata": {
        "colab": {
          "base_uri": "https://localhost:8080/"
        },
        "id": "CesM_p7p3vPv",
        "outputId": "b554cc2b-b555-4791-a43e-151f3071a652"
      },
      "outputs": [
        {
          "output_type": "stream",
          "name": "stdout",
          "text": [
            "2.5 2 1\n"
          ]
        }
      ],
      "source": [
        "a = 5 / 2\n",
        "b = 5 // 2\n",
        "c = 5 % 2\n",
        "print (a,b,c)"
      ]
    },
    {
      "cell_type": "markdown",
      "source": [
        "Please note that double asterisks '**' represents exponent operation in Python."
      ],
      "metadata": {
        "id": "iesnenO3fmhQ"
      }
    },
    {
      "cell_type": "code",
      "source": [
        "d = 2 ** 3\n",
        "print (d)"
      ],
      "metadata": {
        "colab": {
          "base_uri": "https://localhost:8080/"
        },
        "id": "sS3xAMimfs2J",
        "outputId": "e23c4809-9de5-4d71-9f36-d0744bb36de8"
      },
      "execution_count": null,
      "outputs": [
        {
          "output_type": "stream",
          "name": "stdout",
          "text": [
            "8\n"
          ]
        }
      ]
    },
    {
      "cell_type": "markdown",
      "source": [
        "When writing long numbers, we can group digits using underscores to make large numbers more readable, no matter where we place underscores."
      ],
      "metadata": {
        "id": "_0MqRYYLHSgl"
      }
    },
    {
      "cell_type": "code",
      "source": [
        "longnum = 14_000_00\n",
        "print(longnum)"
      ],
      "metadata": {
        "colab": {
          "base_uri": "https://localhost:8080/"
        },
        "id": "Tx1rRWkhHPRC",
        "outputId": "f27a8e0b-fae1-4985-8921-6989b824a1c5"
      },
      "execution_count": 15,
      "outputs": [
        {
          "output_type": "stream",
          "name": "stdout",
          "text": [
            "1400000\n"
          ]
        }
      ]
    },
    {
      "cell_type": "markdown",
      "source": [
        "**Multiple assignment** is a quick way to initialize variables. This can help short the programs and make them eariser to read."
      ],
      "metadata": {
        "id": "TqqR2dEPIW_u"
      }
    },
    {
      "cell_type": "code",
      "source": [
        "a1, a2, a3 = 0,1,2\n",
        "print(a1,a2,a3)"
      ],
      "metadata": {
        "colab": {
          "base_uri": "https://localhost:8080/"
        },
        "id": "84DCJeuoJD99",
        "outputId": "076d592a-c44d-4466-d9de-84c20189d944"
      },
      "execution_count": 16,
      "outputs": [
        {
          "output_type": "stream",
          "name": "stdout",
          "text": [
            "0 1 2\n"
          ]
        }
      ]
    },
    {
      "cell_type": "markdown",
      "source": [
        "Since Python doesn't have built-in constant type, make the name of the variable **all capital letters** when you want to treat a variable as a constant in the code."
      ],
      "metadata": {
        "id": "OaOfIOhuNNvJ"
      }
    },
    {
      "cell_type": "code",
      "source": [
        "CONSTANT = 1000"
      ],
      "metadata": {
        "id": "LFXEirasOHGR"
      },
      "execution_count": null,
      "outputs": []
    }
  ]
}