{
  "nbformat": 4,
  "nbformat_minor": 0,
  "metadata": {
    "colab": {
      "provenance": [],
      "authorship_tag": "ABX9TyM9bk+t22WYBHpL/dOEKomK",
      "include_colab_link": true
    },
    "kernelspec": {
      "name": "python3",
      "display_name": "Python 3"
    },
    "language_info": {
      "name": "python"
    }
  },
  "cells": [
    {
      "cell_type": "markdown",
      "metadata": {
        "id": "view-in-github",
        "colab_type": "text"
      },
      "source": [
        "<a href=\"https://colab.research.google.com/github/luckyxxxjm/Python3_Learning_Notes/blob/main/LoopThroughList.ipynb\" target=\"_parent\"><img src=\"https://colab.research.google.com/assets/colab-badge.svg\" alt=\"Open In Colab\"/></a>"
      ]
    },
    {
      "cell_type": "markdown",
      "source": [
        "# Working With Lists"
      ],
      "metadata": {
        "id": "11B9GfHCtYvj"
      }
    },
    {
      "cell_type": "markdown",
      "source": [
        "## For Loop"
      ],
      "metadata": {
        "id": "xBsL6ZnyWu_M"
      }
    },
    {
      "cell_type": "markdown",
      "source": [
        "A for loop has the form of:\n",
        "\n",
        "```\n",
        "for {temperate variable} in {list name}:\n",
        "  indented lines in the loop\n",
        "```\n",
        "Every indented line following the line started with for is considered inside the loop. \n",
        "\n",
        "Any lines of code after the for loop that are not indented are executed once without repetition.\n",
        "\n",
        "When writing for loops that we can choose any name we like for the temperate variable that will be associated with each value in the list."
      ],
      "metadata": {
        "id": "kdIeBbCYcnD9"
      }
    },
    {
      "cell_type": "code",
      "source": [
        "musicians = ['Beethoven','Bach','Chopin']\n",
        "for musician in musicians:\n",
        "  print(f'{musician} is a great musician.')\n",
        "print('They wrote many masterpieces.')"
      ],
      "metadata": {
        "colab": {
          "base_uri": "https://localhost:8080/"
        },
        "id": "OO8CunfodqWa",
        "outputId": "563c00d2-347b-4ea7-a52f-83e9db854b0e"
      },
      "execution_count": null,
      "outputs": [
        {
          "output_type": "stream",
          "name": "stdout",
          "text": [
            "Beethoven is a great musician.\n",
            "Bach is a great musician.\n",
            "Chopin is a great musician.\n",
            "They wrote many masterpieces.\n"
          ]
        }
      ]
    },
    {
      "cell_type": "markdown",
      "source": [
        "Here are several common indentation errors: \n",
        "forgetting to indent, \n",
        "forgetting to indent additional lines, \n",
        "indenting unnecessarily, \n",
        "indenting unnecessarily after the loop, \n",
        "forgetting the colon."
      ],
      "metadata": {
        "id": "UO0m4pF9ZjI9"
      }
    },
    {
      "cell_type": "markdown",
      "source": [
        "## Making Numerical Lists"
      ],
      "metadata": {
        "id": "csY19Sa9sdPn"
      }
    },
    {
      "cell_type": "markdown",
      "source": [
        "The range() function can generate a series of numbers. Becuase of the off-by-one behavior, Python starts counting at the first value you give it, and it stops when it reaches the second value you provide. \n",
        "\n",
        "For example, to print the numbers 1 to 5, you would use range(1,6): "
      ],
      "metadata": {
        "id": "RPcKARxQtsoF"
      }
    },
    {
      "cell_type": "code",
      "source": [
        "for value in range(1,6):\n",
        "  print(value)"
      ],
      "metadata": {
        "colab": {
          "base_uri": "https://localhost:8080/"
        },
        "id": "tvGPOx2xscwS",
        "outputId": "c24cf17e-3a3b-4a84-df37-6509913b35a2"
      },
      "execution_count": null,
      "outputs": [
        {
          "output_type": "stream",
          "name": "stdout",
          "text": [
            "1\n",
            "2\n",
            "3\n",
            "4\n",
            "5\n"
          ]
        }
      ]
    },
    {
      "cell_type": "markdown",
      "source": [
        "Remark: If the output is different from your expectation, try adjusting your end value by 1. \n",
        "Besides, you can pass range() only one argument, and it will start sequence of numbers at 0."
      ],
      "metadata": {
        "id": "lIeRH_bPxYzI"
      }
    },
    {
      "cell_type": "markdown",
      "source": [
        "We can use list() function to convert the results of range() directly into a list. \n",
        "If you pass a third argument to range(), Python uses that value as a step size when generating numbers."
      ],
      "metadata": {
        "id": "-N9q4zk3yFOu"
      }
    },
    {
      "cell_type": "code",
      "execution_count": null,
      "metadata": {
        "colab": {
          "base_uri": "https://localhost:8080/"
        },
        "id": "Fjc6SrG-Wj7P",
        "outputId": "503c2d31-be0e-488f-b37b-f0b42bdbf94c"
      },
      "outputs": [
        {
          "output_type": "stream",
          "name": "stdout",
          "text": [
            "[2, 4, 6, 8, 10]\n"
          ]
        }
      ],
      "source": [
        "EvenNum = list(range(2,11,2))\n",
        "print(EvenNum)"
      ]
    },
    {
      "cell_type": "markdown",
      "source": [
        "You can do simple statistics with numerical list. "
      ],
      "metadata": {
        "id": "dYOc9KMnBkxs"
      }
    },
    {
      "cell_type": "code",
      "source": [
        "nums = list(range(1,11))\n",
        "print(nums)\n",
        "print(min(nums))\n",
        "print(max(nums))\n",
        "print(sum(nums))"
      ],
      "metadata": {
        "colab": {
          "base_uri": "https://localhost:8080/"
        },
        "id": "3apayBqty8sW",
        "outputId": "077c14a1-4ef4-4616-b7ef-c5edcfa38581"
      },
      "execution_count": null,
      "outputs": [
        {
          "output_type": "stream",
          "name": "stdout",
          "text": [
            "[1, 2, 3, 4, 5, 6, 7, 8, 9, 10]\n",
            "1\n",
            "10\n",
            "55\n"
          ]
        }
      ]
    },
    {
      "cell_type": "markdown",
      "source": [
        "List comprehension is common in coding since it's shorter with the same result.\n",
        "It combines the for loop and the creation of new elements into one line, and automatically appends each new element. \n",
        "\n",
        "A list comprehension begins with a descriptive name for the list. Next, open a set of square brackets and define the expression for the values you want to store in the new list. Notice that no colon is used at the end of the for statement.\n",
        "\n",
        "\n",
        "```\n",
        "{list name} = [{exqression} for {temperate variable} in range()]\n",
        "```"
      ],
      "metadata": {
        "id": "KKLS7dTyDXxE"
      }
    },
    {
      "cell_type": "code",
      "source": [
        "squares1 = []\n",
        "for value in range(1,11):\n",
        "  squares1.append(value**2)\n",
        "print(f'The original result is {squares1}')\n",
        "squares2 = [value**2 for value in range(1,11)]\n",
        "print(f'The list comprehension result is {squares2}')"
      ],
      "metadata": {
        "colab": {
          "base_uri": "https://localhost:8080/"
        },
        "id": "rrV_fo5QB_cQ",
        "outputId": "60cfdda7-0794-4d72-e2e2-1b658e49d3d4"
      },
      "execution_count": null,
      "outputs": [
        {
          "output_type": "stream",
          "name": "stdout",
          "text": [
            "The original result is [1, 4, 9, 16, 25, 36, 49, 64, 81, 100]\n",
            "The list comprehension result is [1, 4, 9, 16, 25, 36, 49, 64, 81, 100]\n"
          ]
        }
      ]
    },
    {
      "cell_type": "markdown",
      "source": [
        "**Ex 4-1. Threes:** Make a list of the multiples of 3 from 3 to 30. Use a for loop to print the numbers in your list."
      ],
      "metadata": {
        "id": "w2xRJzOcGsOQ"
      }
    },
    {
      "cell_type": "code",
      "source": [
        "Threes = list(range(3,31,3))\n",
        "for three in Threes:\n",
        "  print(three)"
      ],
      "metadata": {
        "colab": {
          "base_uri": "https://localhost:8080/"
        },
        "id": "kdKcxflsF4Fv",
        "outputId": "db6b5a54-0696-4987-8bc8-15887ce49cc1"
      },
      "execution_count": null,
      "outputs": [
        {
          "output_type": "stream",
          "name": "stdout",
          "text": [
            "3\n",
            "6\n",
            "9\n",
            "12\n",
            "15\n",
            "18\n",
            "21\n",
            "24\n",
            "27\n",
            "30\n"
          ]
        }
      ]
    },
    {
      "cell_type": "markdown",
      "source": [
        "**Ex 4-2. Cube Comprehension** Use a list comprehension to generate a list of the first 10 cubes."
      ],
      "metadata": {
        "id": "C7BWVNVjJx7x"
      }
    },
    {
      "cell_type": "code",
      "source": [
        "cubes = [cube**3 for cube in range(1,11)]\n",
        "print(cubes)"
      ],
      "metadata": {
        "colab": {
          "base_uri": "https://localhost:8080/"
        },
        "id": "SgzqzcJHJmkV",
        "outputId": "4513aad6-4454-4ebc-f740-30a7a5ad386f"
      },
      "execution_count": null,
      "outputs": [
        {
          "output_type": "stream",
          "name": "stdout",
          "text": [
            "[1, 8, 27, 64, 125, 216, 343, 512, 729, 1000]\n"
          ]
        }
      ]
    },
    {
      "cell_type": "markdown",
      "source": [
        "## Working with Part of a List"
      ],
      "metadata": {
        "id": "5smbR_ZAQfYt"
      }
    },
    {
      "cell_type": "markdown",
      "source": [
        "To slice a list, you specify the index of the first and last elements you want to work with. \n",
        "Hence, you can generate any subset of a list.\n",
        "\n",
        "If you omit the first index of a list, Python automatically starts your slice at the beginning of the list.\n",
        "\n",
        "Also, you can omit the second index if you want a slice that includes the end of a list.\n",
        "\n",
        "If a third value is included, this tells Python how many items to skip between items in the specified range.\n",
        "\n",
        "The negative index also apply in this case."
      ],
      "metadata": {
        "id": "yIdex4EiQvgO"
      }
    },
    {
      "cell_type": "code",
      "source": [
        "musicians = ['Beethoven','Bach','Chopin','Haydn','Mozart']\n",
        "print(musicians[1:4])\n",
        "print(musicians[:3])\n",
        "print(musicians[2:])\n",
        "print(musicians[-3:])"
      ],
      "metadata": {
        "colab": {
          "base_uri": "https://localhost:8080/"
        },
        "id": "_Mlgy_BXQFXQ",
        "outputId": "95bf3ba5-82b2-4ff5-fa7a-23f980cf3e2c"
      },
      "execution_count": null,
      "outputs": [
        {
          "output_type": "stream",
          "name": "stdout",
          "text": [
            "['Bach', 'Chopin', 'Haydn']\n",
            "['Beethoven', 'Bach', 'Chopin']\n",
            "['Chopin', 'Haydn', 'Mozart']\n",
            "['Chopin', 'Haydn', 'Mozart']\n"
          ]
        }
      ]
    },
    {
      "cell_type": "markdown",
      "source": [
        "You can use a slice in a for loop if you want to loop through a subset of the elements in a list. \n",
        "Slices are very useful when you are working with data."
      ],
      "metadata": {
        "id": "5EPyN37TTwAq"
      }
    },
    {
      "cell_type": "code",
      "source": [
        "print('Here are my favourite musicians:')\n",
        "for musician in musicians[:3]:\n",
        "  print(musician)"
      ],
      "metadata": {
        "colab": {
          "base_uri": "https://localhost:8080/"
        },
        "id": "QDfBI2LETlxL",
        "outputId": "5c37dbab-6043-4940-d0e3-c282aef16e5c"
      },
      "execution_count": null,
      "outputs": [
        {
          "output_type": "stream",
          "name": "stdout",
          "text": [
            "Here are my favourite musicians:\n",
            "Beethoven\n",
            "Bach\n",
            "Chopin\n"
          ]
        }
      ]
    },
    {
      "cell_type": "markdown",
      "source": [
        "To copy a list, omit both index in the braket([ : ]). This tells Python to make a slice that starts at the first item and ends with the last items, producing a copy of the entire list."
      ],
      "metadata": {
        "id": "JhlZatSPVr-I"
      }
    },
    {
      "cell_type": "code",
      "source": [
        "MyMusicians = ['Bach', 'Chopin']\n",
        "FriendMusicians = MyMusicians[:]\n",
        "print(f'My favourite musicians are \\n {MyMusicians}')\n",
        "print(f\"My friend's favourite musicians are \\n {FriendMusicians}\")\n",
        "\n",
        "MyMusicians.append('Haydn')\n",
        "FriendMusicians.append('Mozart')\n",
        "print(f'Top three musicians in my mind are \\n {MyMusicians}')\n",
        "print(f\"Top three musicians in my friend's mind are \\n {FriendMusicians}\")"
      ],
      "metadata": {
        "colab": {
          "base_uri": "https://localhost:8080/"
        },
        "id": "MLTAGro2ViE7",
        "outputId": "ea40413f-90a7-4e3c-917c-bd4a34be38d6"
      },
      "execution_count": null,
      "outputs": [
        {
          "output_type": "stream",
          "name": "stdout",
          "text": [
            "My favourite musicians are \n",
            " ['Bach', 'Chopin']\n",
            "My friend's favourite musicians are \n",
            " ['Bach', 'Chopin']\n",
            "Top three musicians in my mind are \n",
            " ['Bach', 'Chopin', 'Haydn']\n",
            "Top three musicians in my friend's mind are \n",
            " ['Bach', 'Chopin', 'Mozart']\n"
          ]
        }
      ]
    },
    {
      "cell_type": "markdown",
      "source": [
        "Sometimes if we forget to add the braket, things will become like that:"
      ],
      "metadata": {
        "id": "EUAz0ycyXJsj"
      }
    },
    {
      "cell_type": "code",
      "source": [
        "MyMusicians = ['Bach', 'Chopin']\n",
        "FriendMusicians = MyMusicians\n",
        "print(f'My favourite musicians are \\n {MyMusicians}')\n",
        "print(f\"My friend's favourite musicians are \\n {FriendMusicians}\")\n",
        "\n",
        "MyMusicians.append('Haydn')\n",
        "FriendMusicians.append('Mozart')\n",
        "print(f'Top three musicians in my mind are \\n {MyMusicians}')\n",
        "print(f\"Top three musicians in my friend's mind are \\n {FriendMusicians}\")"
      ],
      "metadata": {
        "colab": {
          "base_uri": "https://localhost:8080/"
        },
        "id": "PKzM6WH9W4C7",
        "outputId": "9ad89cc8-d24a-4b67-de19-8ade09367b76"
      },
      "execution_count": null,
      "outputs": [
        {
          "output_type": "stream",
          "name": "stdout",
          "text": [
            "My favourite musicians are \n",
            " ['Bach', 'Chopin']\n",
            "My friend's favourite musicians are \n",
            " ['Bach', 'Chopin']\n",
            "Top three musicians in my mind are \n",
            " ['Bach', 'Chopin', 'Haydn', 'Mozart']\n",
            "Top three musicians in my friend's mind are \n",
            " ['Bach', 'Chopin', 'Haydn', 'Mozart']\n"
          ]
        }
      ]
    },
    {
      "cell_type": "markdown",
      "source": [
        "That's because both variables point to the same list. As a result, when we add 'Haydn' to *MyMusicians*, it will also appear in *FriendMusicians*."
      ],
      "metadata": {
        "id": "4zZJY_OqYud5"
      }
    },
    {
      "cell_type": "markdown",
      "source": [
        "## Tuples"
      ],
      "metadata": {
        "id": "mcA9dNFbaeDA"
      }
    },
    {
      "cell_type": "markdown",
      "source": [
        "A tuple is an immutable list, which uses parentheses instead of square brakets. \n",
        "\n",
        "Many opperations that are suitable for list are applicable to tuple.\n",
        "\n",
        "We can't change the value of tuple but we can assign a new value to a variable that represents a tuple because reassigning a variable is valid. \n",
        "\n",
        "There are two operation of tuple. One is 'count', another is 'index'.\n",
        "When we don't want to change the value of list, then we use tuple."
      ],
      "metadata": {
        "id": "Zy0DkQeAalfE"
      }
    },
    {
      "cell_type": "code",
      "source": [
        "Weight = (55,60,65)\n",
        "print(Weight[1])\n",
        "print(Weight.count(65))"
      ],
      "metadata": {
        "colab": {
          "base_uri": "https://localhost:8080/"
        },
        "id": "hjVWIb7cdVkR",
        "outputId": "21793dd7-3695-41da-80c8-2e064a3694bf"
      },
      "execution_count": null,
      "outputs": [
        {
          "output_type": "stream",
          "name": "stdout",
          "text": [
            "60\n",
            "1\n"
          ]
        }
      ]
    },
    {
      "cell_type": "markdown",
      "source": [
        "Remark: Tuples are technically defined by the presence of a comma. If you want to define a tuple with one element, yuo need to include a trailing comma.\n",
        "\n",
        "\n",
        "```\n",
        "# tuple = (5,)\n",
        "```\n",
        "\n"
      ],
      "metadata": {
        "id": "gwJep2kqbSu1"
      }
    }
  ]
}